{
 "cells": [
  {
   "cell_type": "code",
   "execution_count": 1,
   "id": "25cd283e-a91e-4e10-8844-9f8ecc5d6c5d",
   "metadata": {},
   "outputs": [],
   "source": [
    "import asyncio\n",
    "from uuid import uuid4"
   ]
  },
  {
   "cell_type": "code",
   "execution_count": 2,
   "id": "312a3dc4-3a5c-474d-8818-453354b80741",
   "metadata": {},
   "outputs": [],
   "source": [
    "from pydantic import BaseModel"
   ]
  },
  {
   "cell_type": "code",
   "execution_count": 3,
   "id": "16b2a0fd-08f4-471d-86e3-f8799beec560",
   "metadata": {},
   "outputs": [],
   "source": [
    "from matter_persistence.redis.manager import CacheManager"
   ]
  },
  {
   "cell_type": "code",
   "execution_count": 4,
   "id": "136ba819-4727-423f-b851-ddd5dc61b3b4",
   "metadata": {},
   "outputs": [],
   "source": [
    "# example DTO\n",
    "class Test(BaseModel):\n",
    "    some_field: int\n",
    "    some_other_field: list[int]\n",
    "\n",
    "# test type\n",
    "t = Test(some_field=0, some_other_field=[_ for _ in range(5)])"
   ]
  },
  {
   "cell_type": "code",
   "execution_count": 5,
   "id": "4ea8b7a7-43bc-4ff6-97aa-da8016da7b74",
   "metadata": {},
   "outputs": [],
   "source": [
    "# random organisation and internal id\n",
    "ORGANISATION_ID = uuid4()\n",
    "INTERNAL_ID = uuid4()"
   ]
  },
  {
   "cell_type": "code",
   "execution_count": 6,
   "id": "b1889cf6-e5d5-4e5d-8fdf-c66b0ed1fee7",
   "metadata": {},
   "outputs": [],
   "source": [
    "cache_manager = CacheManager(host=\"localhost\", port=6379) # make sure there is a redis instance running!"
   ]
  },
  {
   "cell_type": "code",
   "execution_count": 7,
   "id": "63eba14d-720a-4978-ab63-45b1987a2bb9",
   "metadata": {},
   "outputs": [
    {
     "data": {
      "text/plain": [
       "True"
      ]
     },
     "execution_count": 7,
     "metadata": {},
     "output_type": "execute_result"
    }
   ],
   "source": [
    "# check if cache is alive\n",
    "await cache_manager.is_cache_alive()"
   ]
  },
  {
   "cell_type": "code",
   "execution_count": 8,
   "id": "4d68cb64-4273-401f-9fb3-91a9e1f976b8",
   "metadata": {},
   "outputs": [],
   "source": [
    "# save pydantic type to cache\n",
    "await cache_manager.save_value(ORGANISATION_ID, INTERNAL_ID, t, Test)"
   ]
  },
  {
   "cell_type": "code",
   "execution_count": 9,
   "id": "75aa5ca2-44b4-4bef-a52d-525db1bf0771",
   "metadata": {},
   "outputs": [
    {
     "data": {
      "text/plain": [
       "1"
      ]
     },
     "execution_count": 9,
     "metadata": {},
     "output_type": "execute_result"
    }
   ],
   "source": [
    "# check if pydantic object exists in cache\n",
    "await cache_manager.cache_record_exists(ORGANISATION_ID, INTERNAL_ID, Test)"
   ]
  },
  {
   "cell_type": "code",
   "execution_count": 10,
   "id": "b3ab0ed0-b1f2-43e3-99a7-784966f8deb0",
   "metadata": {},
   "outputs": [
    {
     "data": {
      "text/plain": [
       "CacheRecordModel(internal_id='d14bf719-bb50-4f0c-b0fa-707d5dd1b0f6', hash_key='156c7600-fdac-4508-8756-f0f9a0a79a8d_Test_6462127acdbd4fed9b665aea70d45c299bcc712f', organization_id=UUID('156c7600-fdac-4508-8756-f0f9a0a79a8d'), value={'some_field': 0, 'some_other_field': [0, 1, 2, 3, 4]}, expiration=None)"
      ]
     },
     "execution_count": 10,
     "metadata": {},
     "output_type": "execute_result"
    }
   ],
   "source": [
    "# find pydantic object in cache\n",
    "await cache_manager.get_value(ORGANISATION_ID, INTERNAL_ID, Test)"
   ]
  },
  {
   "cell_type": "code",
   "execution_count": 11,
   "id": "13b34dae-a9c6-466f-ac15-a980f4bfa555",
   "metadata": {},
   "outputs": [],
   "source": [
    "# delete pydantic object from cache\n",
    "await cache_manager.delete_value(ORGANISATION_ID, INTERNAL_ID, Test)"
   ]
  },
  {
   "cell_type": "code",
   "execution_count": 12,
   "id": "044a022d-d886-44eb-a74e-2ff72030b7e1",
   "metadata": {},
   "outputs": [
    {
     "data": {
      "text/plain": [
       "0"
      ]
     },
     "execution_count": 12,
     "metadata": {},
     "output_type": "execute_result"
    }
   ],
   "source": [
    "# make sure pydantic object is deleted from cache\n",
    "await cache_manager.cache_record_exists(ORGANISATION_ID, INTERNAL_ID, Test)"
   ]
  }
 ],
 "metadata": {
  "kernelspec": {
   "display_name": "Python 3 (ipykernel)",
   "language": "python",
   "name": "python3"
  },
  "language_info": {
   "codemirror_mode": {
    "name": "ipython",
    "version": 3
   },
   "file_extension": ".py",
   "mimetype": "text/x-python",
   "name": "python",
   "nbconvert_exporter": "python",
   "pygments_lexer": "ipython3",
   "version": "3.11.5"
  }
 },
 "nbformat": 4,
 "nbformat_minor": 5
}
