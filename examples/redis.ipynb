{
 "cells": [
  {
   "cell_type": "code",
   "execution_count": 1,
   "id": "25cd283e-a91e-4e10-8844-9f8ecc5d6c5d",
   "metadata": {},
   "outputs": [],
   "source": [
    "import asyncio\n",
    "from uuid import uuid4"
   ]
  },
  {
   "cell_type": "code",
   "execution_count": 2,
   "id": "312a3dc4-3a5c-474d-8818-453354b80741",
   "metadata": {},
   "outputs": [],
   "source": [
    "from pydantic import BaseModel"
   ]
  },
  {
   "cell_type": "code",
   "execution_count": 3,
   "id": "16b2a0fd-08f4-471d-86e3-f8799beec560",
   "metadata": {},
   "outputs": [],
   "source": [
    "from matter_persistence.redis.manager import CacheManager"
   ]
  },
  {
   "cell_type": "code",
   "execution_count": 4,
   "id": "136ba819-4727-423f-b851-ddd5dc61b3b4",
   "metadata": {},
   "outputs": [],
   "source": [
    "# example DTO\n",
    "class Test(BaseModel):\n",
    "    some_field: int\n",
    "    some_other_field: list[int]\n",
    "\n",
    "# test type\n",
    "t = Test(some_field=0, some_other_field=[_ for _ in range(5)])"
   ]
  },
  {
   "cell_type": "code",
   "execution_count": 5,
   "id": "4ea8b7a7-43bc-4ff6-97aa-da8016da7b74",
   "metadata": {},
   "outputs": [],
   "source": [
    "# random organisation and internal id\n",
    "ORGANISATION_ID = uuid4()\n",
    "INTERNAL_ID = uuid4()"
   ]
  },
  {
   "cell_type": "code",
   "execution_count": 6,
   "id": "b1889cf6-e5d5-4e5d-8fdf-c66b0ed1fee7",
   "metadata": {},
   "outputs": [],
   "source": [
    "cache_manager = CacheManager(host=\"localhost\", port=6379) # make sure there is a redis instance running!"
   ]
  },
  {
   "cell_type": "code",
   "execution_count": 7,
   "id": "63eba14d-720a-4978-ab63-45b1987a2bb9",
   "metadata": {},
   "outputs": [
    {
     "data": {
      "text/plain": [
       "True"
      ]
     },
     "execution_count": 7,
     "metadata": {},
     "output_type": "execute_result"
    }
   ],
   "source": [
    "# check if cache is alive\n",
    "async def check():\n",
    "    return await cache_manager.is_cache_alive()\n",
    "\n",
    "await check()"
   ]
  },
  {
   "cell_type": "code",
   "execution_count": 8,
   "id": "4d68cb64-4273-401f-9fb3-91a9e1f976b8",
   "metadata": {},
   "outputs": [],
   "source": [
    "# save pydantic type to cache\n",
    "async def save():\n",
    "    return await cache_manager.save_pydantic_object(ORGANISATION_ID, INTERNAL_ID, t, Test)\n",
    "\n",
    "await save()"
   ]
  },
  {
   "cell_type": "code",
   "execution_count": 9,
   "id": "75aa5ca2-44b4-4bef-a52d-525db1bf0771",
   "metadata": {},
   "outputs": [
    {
     "data": {
      "text/plain": [
       "1"
      ]
     },
     "execution_count": 9,
     "metadata": {},
     "output_type": "execute_result"
    }
   ],
   "source": [
    "# check if pydantic object exists in cache\n",
    "async def exists():\n",
    "    return await cache_manager.cache_record_exists(ORGANISATION_ID, INTERNAL_ID, Test)\n",
    "\n",
    "await exists()"
   ]
  },
  {
   "cell_type": "code",
   "execution_count": 10,
   "id": "b3ab0ed0-b1f2-43e3-99a7-784966f8deb0",
   "metadata": {},
   "outputs": [
    {
     "data": {
      "text/plain": [
       "CacheRecordModel(internal_id='5b4cd28b-bee9-4983-aefe-34f74bc01ee2', hash_key='3ec94434-d8ca-404b-a901-5b68bafd8e50_Test_43f2681cb4828fa1c65c26ffd22c33c3e2e043f6', organization_id=UUID('3ec94434-d8ca-404b-a901-5b68bafd8e50'), value={'some_field': 0, 'some_other_field': [0, 1, 2, 3, 4]}, expiration=None)"
      ]
     },
     "execution_count": 10,
     "metadata": {},
     "output_type": "execute_result"
    }
   ],
   "source": [
    "# find pydantic object in cache\n",
    "async def find():\n",
    "    return await cache_manager.find_pydantic_object(ORGANISATION_ID, INTERNAL_ID, Test)\n",
    "\n",
    "await find()"
   ]
  },
  {
   "cell_type": "code",
   "execution_count": 11,
   "id": "13b34dae-a9c6-466f-ac15-a980f4bfa555",
   "metadata": {},
   "outputs": [],
   "source": [
    "# delete pydantic object from cache\n",
    "async def delete():\n",
    "    return await cache_manager.delete_pydantic_object(ORGANISATION_ID, INTERNAL_ID, Test)\n",
    "\n",
    "await delete()"
   ]
  },
  {
   "cell_type": "code",
   "execution_count": 12,
   "id": "044a022d-d886-44eb-a74e-2ff72030b7e1",
   "metadata": {},
   "outputs": [
    {
     "data": {
      "text/plain": [
       "0"
      ]
     },
     "execution_count": 12,
     "metadata": {},
     "output_type": "execute_result"
    }
   ],
   "source": [
    "# make sure pydantic object is deleted from cache\n",
    "await exists()"
   ]
  },
  {
   "cell_type": "code",
   "execution_count": 13,
   "id": "fadfa369-0d66-4761-9db3-0187cabbf9ee",
   "metadata": {},
   "outputs": [
    {
     "ename": "CacheRecordNotFoundError",
     "evalue": "",
     "output_type": "error",
     "traceback": [
      "\u001b[0;31m---------------------------------------------------------------------------\u001b[0m",
      "\u001b[0;31mCacheRecordNotFoundError\u001b[0m                  Traceback (most recent call last)",
      "Cell \u001b[0;32mIn[13], line 1\u001b[0m\n\u001b[0;32m----> 1\u001b[0m \u001b[38;5;28;01mawait\u001b[39;00m find() \u001b[38;5;66;03m# make sure returns exception\u001b[39;00m\n",
      "Cell \u001b[0;32mIn[10], line 3\u001b[0m, in \u001b[0;36mfind\u001b[0;34m()\u001b[0m\n\u001b[1;32m      2\u001b[0m \u001b[38;5;28;01masync\u001b[39;00m \u001b[38;5;28;01mdef\u001b[39;00m \u001b[38;5;21mfind\u001b[39m():\n\u001b[0;32m----> 3\u001b[0m     \u001b[38;5;28;01mreturn\u001b[39;00m \u001b[38;5;28;01mawait\u001b[39;00m cache_manager\u001b[38;5;241m.\u001b[39mfind_pydantic_object(ORGANISATION_ID, INTERNAL_ID, Test)\n",
      "File \u001b[0;32m~/Desktop/matter/matter-persistence/matter_persistence/redis/manager.py:102\u001b[0m, in \u001b[0;36mCacheManager.find_pydantic_object\u001b[0;34m(self, organization_id, internal_id, object_class, **kwargs)\u001b[0m\n\u001b[1;32m     99\u001b[0m     cache_record_json \u001b[38;5;241m=\u001b[39m \u001b[38;5;28;01mawait\u001b[39;00m cache_client\u001b[38;5;241m.\u001b[39mget_value(key)\n\u001b[1;32m    101\u001b[0m \u001b[38;5;28;01mif\u001b[39;00m \u001b[38;5;129;01mnot\u001b[39;00m cache_record_json:\n\u001b[0;32m--> 102\u001b[0m     \u001b[38;5;28;01mraise\u001b[39;00m CacheRecordNotFoundError(\n\u001b[1;32m    103\u001b[0m         description\u001b[38;5;241m=\u001b[39m\u001b[38;5;124mf\u001b[39m\u001b[38;5;124m\"\u001b[39m\u001b[38;5;124mUnable to find Cache Record with the key: \u001b[39m\u001b[38;5;132;01m{\u001b[39;00mkey\u001b[38;5;132;01m}\u001b[39;00m\u001b[38;5;124m\"\u001b[39m,\n\u001b[1;32m    104\u001b[0m         detail\u001b[38;5;241m=\u001b[39mcache_record_json,\n\u001b[1;32m    105\u001b[0m     )\n\u001b[1;32m    107\u001b[0m \u001b[38;5;28;01mreturn\u001b[39;00m CacheRecordModel\u001b[38;5;241m.\u001b[39mfrom_json(cache_record_json)\n",
      "\u001b[0;31mCacheRecordNotFoundError\u001b[0m: "
     ]
    }
   ],
   "source": [
    "await find() # make sure returns exception"
   ]
  }
 ],
 "metadata": {
  "kernelspec": {
   "display_name": "Python 3 (ipykernel)",
   "language": "python",
   "name": "python3"
  },
  "language_info": {
   "codemirror_mode": {
    "name": "ipython",
    "version": 3
   },
   "file_extension": ".py",
   "mimetype": "text/x-python",
   "name": "python",
   "nbconvert_exporter": "python",
   "pygments_lexer": "ipython3",
   "version": "3.11.5"
  }
 },
 "nbformat": 4,
 "nbformat_minor": 5
}
