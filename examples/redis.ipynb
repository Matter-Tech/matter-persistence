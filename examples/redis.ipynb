{
 "cells": [
  {
   "cell_type": "markdown",
   "id": "2e60c157-5993-402f-9e82-3d4712f65c80",
   "metadata": {},
   "source": [
    "# Imports"
   ]
  },
  {
   "cell_type": "code",
   "execution_count": 1,
   "id": "25cd283e-a91e-4e10-8844-9f8ecc5d6c5d",
   "metadata": {},
   "outputs": [],
   "source": [
    "import asyncio\n",
    "from uuid import uuid4"
   ]
  },
  {
   "cell_type": "code",
   "execution_count": 2,
   "id": "312a3dc4-3a5c-474d-8818-453354b80741",
   "metadata": {},
   "outputs": [],
   "source": [
    "from pydantic import BaseModel"
   ]
  },
  {
   "cell_type": "code",
   "execution_count": 3,
   "id": "16b2a0fd-08f4-471d-86e3-f8799beec560",
   "metadata": {},
   "outputs": [],
   "source": [
    "from matter_persistence.redis.manager import CacheManager, get_connection_pool\n",
    "from matter_persistence.foundation_model import FoundationModel"
   ]
  },
  {
   "cell_type": "markdown",
   "id": "f88ff54e-8a17-4fca-bb5e-5f2008b7c69b",
   "metadata": {},
   "source": [
    "# UUIDS"
   ]
  },
  {
   "cell_type": "code",
   "execution_count": 4,
   "id": "4ea8b7a7-43bc-4ff6-97aa-da8016da7b74",
   "metadata": {},
   "outputs": [],
   "source": [
    "# random organisation and internal id\n",
    "ORGANISATION_ID = uuid4()\n",
    "INTERNAL_ID = uuid4()"
   ]
  },
  {
   "cell_type": "markdown",
   "id": "2644c5ca-57ec-4e19-8ee3-3b8dbd6f6195",
   "metadata": {},
   "source": [
    "# Example Pydantic type"
   ]
  },
  {
   "cell_type": "code",
   "execution_count": 5,
   "id": "136ba819-4727-423f-b851-ddd5dc61b3b4",
   "metadata": {},
   "outputs": [],
   "source": [
    "# example pydantic type\n",
    "class Person(FoundationModel):\n",
    "    name: str\n",
    "    age: int\n",
    "\n",
    "# test type\n",
    "john = Person(name=\"John\", age=30)"
   ]
  },
  {
   "cell_type": "code",
   "execution_count": 6,
   "id": "116128cb-4fc3-4847-a451-8e35ffaf8e7c",
   "metadata": {},
   "outputs": [
    {
     "data": {
      "text/plain": [
       "Person(created_at=datetime.datetime(2024, 4, 30, 12, 14, 10, 499668, tzinfo=datetime.timezone.utc), created_at_timestamp=1714479250.499696, name='John', age=30)"
      ]
     },
     "execution_count": 6,
     "metadata": {},
     "output_type": "execute_result"
    }
   ],
   "source": [
    "john # created_at & created_at_timestamp are added \"automatically\""
   ]
  },
  {
   "cell_type": "markdown",
   "id": "79c0840a-3691-4375-8dbf-5bf6bb2d7b76",
   "metadata": {},
   "source": [
    "# Create Person from different objects"
   ]
  },
  {
   "cell_type": "markdown",
   "id": "e7037bec-bca1-4367-90c8-ba349da80ca4",
   "metadata": {},
   "source": [
    "## from python dict"
   ]
  },
  {
   "cell_type": "code",
   "execution_count": 7,
   "id": "17ec93b2-0f3a-4a73-83cc-e31af578f609",
   "metadata": {},
   "outputs": [
    {
     "data": {
      "text/plain": [
       "Person(created_at=datetime.datetime(2024, 4, 30, 12, 14, 10, 499668, tzinfo=datetime.timezone.utc), created_at_timestamp=1714479250.499696, name='Jane', age=30)"
      ]
     },
     "execution_count": 7,
     "metadata": {},
     "output_type": "execute_result"
    }
   ],
   "source": [
    "Person.parse_obj({'name': 'Jane', 'age': 30})"
   ]
  },
  {
   "cell_type": "markdown",
   "id": "062023d1-7323-4830-a3f6-e97e31410bcd",
   "metadata": {},
   "source": [
    "## from other pydantic type"
   ]
  },
  {
   "cell_type": "code",
   "execution_count": 8,
   "id": "19440c73-d358-4d33-a071-9d93252ce78b",
   "metadata": {},
   "outputs": [],
   "source": [
    "class PersonWithOnlyName(BaseModel):\n",
    "    name: str\n",
    "\n",
    "class PersonWithHairColour(BaseModel):\n",
    "    name: str\n",
    "    age: int\n",
    "    hair_colour: str"
   ]
  },
  {
   "cell_type": "code",
   "execution_count": 9,
   "id": "6774161e-8c7b-4e85-92fe-db6eb6d75c4e",
   "metadata": {},
   "outputs": [],
   "source": [
    "# the required fields must be present in the other pydantic type!!"
   ]
  },
  {
   "cell_type": "code",
   "execution_count": 10,
   "id": "a0978b13-bade-47f1-9342-43043185fde0",
   "metadata": {},
   "outputs": [
    {
     "ename": "ValidationError",
     "evalue": "1 validation error for Person\nage\n  Field required [type=missing, input_value={'name': 'Adam'}, input_type=dict]\n    For further information visit https://errors.pydantic.dev/2.7/v/missing",
     "output_type": "error",
     "traceback": [
      "\u001b[0;31m---------------------------------------------------------------------------\u001b[0m",
      "\u001b[0;31mValidationError\u001b[0m                           Traceback (most recent call last)",
      "Cell \u001b[0;32mIn[10], line 1\u001b[0m\n\u001b[0;32m----> 1\u001b[0m \u001b[43mPerson\u001b[49m\u001b[38;5;241;43m.\u001b[39;49m\u001b[43mparse_obj\u001b[49m\u001b[43m(\u001b[49m\u001b[43mPersonWithOnlyName\u001b[49m\u001b[43m(\u001b[49m\u001b[43mname\u001b[49m\u001b[38;5;241;43m=\u001b[39;49m\u001b[38;5;124;43m\"\u001b[39;49m\u001b[38;5;124;43mAdam\u001b[39;49m\u001b[38;5;124;43m\"\u001b[39;49m\u001b[43m)\u001b[49m\u001b[43m)\u001b[49m\n",
      "File \u001b[0;32m~/Desktop/matter/matter-persistence/matter_persistence/foundation_model.py:27\u001b[0m, in \u001b[0;36mFoundationModel.parse_obj\u001b[0;34m(cls, obj)\u001b[0m\n\u001b[1;32m     25\u001b[0m     \u001b[38;5;28;01mreturn\u001b[39;00m \u001b[38;5;28mcls\u001b[39m(\u001b[38;5;241m*\u001b[39m\u001b[38;5;241m*\u001b[39mobj\u001b[38;5;241m.\u001b[39m\u001b[38;5;18m__dict__\u001b[39m)\n\u001b[1;32m     26\u001b[0m \u001b[38;5;28;01melif\u001b[39;00m \u001b[38;5;28misinstance\u001b[39m(obj, BaseModel):\n\u001b[0;32m---> 27\u001b[0m     \u001b[38;5;28;01mreturn\u001b[39;00m \u001b[38;5;28;43mcls\u001b[39;49m\u001b[43m(\u001b[49m\u001b[38;5;241;43m*\u001b[39;49m\u001b[38;5;241;43m*\u001b[39;49m\u001b[43mobj\u001b[49m\u001b[38;5;241;43m.\u001b[39;49m\u001b[43mmodel_dump\u001b[49m\u001b[43m(\u001b[49m\u001b[43m)\u001b[49m\u001b[43m)\u001b[49m\n\u001b[1;32m     28\u001b[0m \u001b[38;5;28;01melif\u001b[39;00m \u001b[38;5;28misinstance\u001b[39m(obj, \u001b[38;5;28mdict\u001b[39m):\n\u001b[1;32m     29\u001b[0m     \u001b[38;5;28;01mreturn\u001b[39;00m \u001b[38;5;28mcls\u001b[39m(\u001b[38;5;241m*\u001b[39m\u001b[38;5;241m*\u001b[39mobj)\n",
      "File \u001b[0;32m~/Desktop/matter/matter-persistence/.venv/lib/python3.11/site-packages/pydantic/main.py:176\u001b[0m, in \u001b[0;36mBaseModel.__init__\u001b[0;34m(self, **data)\u001b[0m\n\u001b[1;32m    174\u001b[0m \u001b[38;5;66;03m# `__tracebackhide__` tells pytest and some other tools to omit this function from tracebacks\u001b[39;00m\n\u001b[1;32m    175\u001b[0m __tracebackhide__ \u001b[38;5;241m=\u001b[39m \u001b[38;5;28;01mTrue\u001b[39;00m\n\u001b[0;32m--> 176\u001b[0m \u001b[38;5;28;43mself\u001b[39;49m\u001b[38;5;241;43m.\u001b[39;49m\u001b[43m__pydantic_validator__\u001b[49m\u001b[38;5;241;43m.\u001b[39;49m\u001b[43mvalidate_python\u001b[49m\u001b[43m(\u001b[49m\u001b[43mdata\u001b[49m\u001b[43m,\u001b[49m\u001b[43m \u001b[49m\u001b[43mself_instance\u001b[49m\u001b[38;5;241;43m=\u001b[39;49m\u001b[38;5;28;43mself\u001b[39;49m\u001b[43m)\u001b[49m\n",
      "\u001b[0;31mValidationError\u001b[0m: 1 validation error for Person\nage\n  Field required [type=missing, input_value={'name': 'Adam'}, input_type=dict]\n    For further information visit https://errors.pydantic.dev/2.7/v/missing"
     ]
    }
   ],
   "source": [
    "Person.parse_obj(PersonWithOnlyName(name=\"Adam\"))"
   ]
  },
  {
   "cell_type": "code",
   "execution_count": 11,
   "id": "7595daf3-eae7-49cd-b572-1aacfd7cfd00",
   "metadata": {},
   "outputs": [
    {
     "data": {
      "text/plain": [
       "Person(created_at=datetime.datetime(2024, 4, 30, 12, 14, 10, 499668, tzinfo=datetime.timezone.utc), created_at_timestamp=1714479250.499696, name='Simone', age=30)"
      ]
     },
     "execution_count": 11,
     "metadata": {},
     "output_type": "execute_result"
    }
   ],
   "source": [
    "Person.parse_obj(PersonWithHairColour(name=\"Simone\", age=30, hair_colour=\"brown\"))  # extra fields are ignored"
   ]
  },
  {
   "cell_type": "markdown",
   "id": "16aaccaf-c66e-43cd-b85d-460ee6561075",
   "metadata": {},
   "source": [
    "# CacheManager"
   ]
  },
  {
   "cell_type": "code",
   "execution_count": 12,
   "id": "b1889cf6-e5d5-4e5d-8fdf-c66b0ed1fee7",
   "metadata": {},
   "outputs": [],
   "source": [
    "connection_pool = get_connection_pool(host=\"localhost\", port=6379)\n",
    "cache_manager = CacheManager(connection_pool=connection_pool) # make sure there is a redis instance running!"
   ]
  },
  {
   "cell_type": "markdown",
   "id": "00131e98-febd-4787-99e3-4687fa7526f4",
   "metadata": {},
   "source": [
    "# Save, get, and delete pydantic type"
   ]
  },
  {
   "cell_type": "code",
   "execution_count": 13,
   "id": "63eba14d-720a-4978-ab63-45b1987a2bb9",
   "metadata": {},
   "outputs": [
    {
     "data": {
      "text/plain": [
       "True"
      ]
     },
     "execution_count": 13,
     "metadata": {},
     "output_type": "execute_result"
    }
   ],
   "source": [
    "# check if cache is alive\n",
    "await cache_manager.is_cache_alive()"
   ]
  },
  {
   "cell_type": "code",
   "execution_count": 14,
   "id": "4d68cb64-4273-401f-9fb3-91a9e1f976b8",
   "metadata": {},
   "outputs": [],
   "source": [
    "# save pydantic type to cache\n",
    "await cache_manager.save_value(ORGANISATION_ID, INTERNAL_ID, john, Person)"
   ]
  },
  {
   "cell_type": "code",
   "execution_count": 15,
   "id": "75aa5ca2-44b4-4bef-a52d-525db1bf0771",
   "metadata": {},
   "outputs": [
    {
     "data": {
      "text/plain": [
       "True"
      ]
     },
     "execution_count": 15,
     "metadata": {},
     "output_type": "execute_result"
    }
   ],
   "source": [
    "# check if pydantic object exists in cache\n",
    "await cache_manager.cache_record_exists(ORGANISATION_ID, INTERNAL_ID, Person)"
   ]
  },
  {
   "cell_type": "code",
   "execution_count": 16,
   "id": "b3ab0ed0-b1f2-43e3-99a7-784966f8deb0",
   "metadata": {},
   "outputs": [
    {
     "data": {
      "text/plain": [
       "CacheRecordModel(created_at=datetime.datetime(2024, 4, 30, 12, 14, 10, 499668, tzinfo=TzInfo(UTC)), created_at_timestamp=1714479250.499696, internal_id='02986cc1-217e-4678-9bf8-7240dee597ed', hash_key='f5cd4bf2-2d1f-4d24-99e4-824765ebccbc_Person_43fc3da42e68a386fa58ff976d2ccdf01796fbf2', organization_id=UUID('f5cd4bf2-2d1f-4d24-99e4-824765ebccbc'), value={'created_at': '2024-04-30T12:14:10.499668Z', 'created_at_timestamp': 1714479250.499696, 'name': 'John', 'age': 30}, expiration=None)"
      ]
     },
     "execution_count": 16,
     "metadata": {},
     "output_type": "execute_result"
    }
   ],
   "source": [
    "# find pydantic object in cache\n",
    "await cache_manager.get_value(ORGANISATION_ID, INTERNAL_ID, Person)"
   ]
  },
  {
   "cell_type": "code",
   "execution_count": 17,
   "id": "13b34dae-a9c6-466f-ac15-a980f4bfa555",
   "metadata": {},
   "outputs": [],
   "source": [
    "# delete pydantic object from cache\n",
    "await cache_manager.delete_value(ORGANISATION_ID, INTERNAL_ID, Person)"
   ]
  },
  {
   "cell_type": "code",
   "execution_count": 18,
   "id": "044a022d-d886-44eb-a74e-2ff72030b7e1",
   "metadata": {},
   "outputs": [
    {
     "data": {
      "text/plain": [
       "False"
      ]
     },
     "execution_count": 18,
     "metadata": {},
     "output_type": "execute_result"
    }
   ],
   "source": [
    "# make sure pydantic object is deleted from cache\n",
    "await cache_manager.cache_record_exists(ORGANISATION_ID, INTERNAL_ID, Person)"
   ]
  },
  {
   "cell_type": "markdown",
   "id": "1176c468-0ac9-4b09-b767-522da06aa8d4",
   "metadata": {},
   "source": [
    "# Close connection pool"
   ]
  },
  {
   "cell_type": "code",
   "execution_count": 19,
   "id": "297347d3-462c-4557-8c96-8a3e766d1274",
   "metadata": {},
   "outputs": [],
   "source": [
    "await cache_manager.close_connection_pool()"
   ]
  }
 ],
 "metadata": {
  "kernelspec": {
   "display_name": "Python 3 (ipykernel)",
   "language": "python",
   "name": "python3"
  },
  "language_info": {
   "codemirror_mode": {
    "name": "ipython",
    "version": 3
   },
   "file_extension": ".py",
   "mimetype": "text/x-python",
   "name": "python",
   "nbconvert_exporter": "python",
   "pygments_lexer": "ipython3",
   "version": "3.11.5"
  }
 },
 "nbformat": 4,
 "nbformat_minor": 5
}
